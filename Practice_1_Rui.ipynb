{
 "cells": [
  {
   "cell_type": "markdown",
   "metadata": {},
   "source": [
    "<img src=\"http://imgur.com/1ZcRyrc.png\" style=\"float: left; margin: 20px; height: 55px\">\n",
    "\n",
    "# Project 1: Python Coding Exercises\n",
    "\n",
    "_Authors: Joseph Nelson (DC) _\n",
    "\n",
    "---"
   ]
  },
  {
   "cell_type": "markdown",
   "metadata": {},
   "source": [
    "The following code challenges are drawn from common exercises used in technical interviews.\n",
    "\n",
    "Please note that there may be several ways to approach each challenge. If you get stuck, try mapping out your approach in pseudocode first. Finally, while solutions to problems like these may be found online, remember that if you copy/paste code that you can't explain, you'll be missing out on the point of the project. The only way to truly learn a new skill is through practice, trial, and error - we can only help you improve by understanding where you are having trouble."
   ]
  },
  {
   "cell_type": "markdown",
   "metadata": {},
   "source": [
    "### Challenge 1: Largest Palindrome\n",
    "A palindromic number reads the same both ways. For example, 1234321 is a palindrome. The largest palindrome made from the product of two two-digit numbers is 9009 = 91 × 99. Find the largest palindrome made from the product of two three-digit numbers. Afterward, write a brief explanation walking through your code's logic in markdown."
   ]
  },
  {
   "cell_type": "code",
   "execution_count": 10,
   "metadata": {},
   "outputs": [
    {
     "name": "stdout",
     "output_type": "stream",
     "text": [
      "906609\n"
     ]
    }
   ],
   "source": [
    "def pali (i):\n",
    "    return int(str(i)[::-1])== i\n",
    "\n",
    "maxpali = 0\n",
    "for a in range(999,99,-1):\n",
    "    for b in range(a,99,-1):\n",
    "        prob = a*b\n",
    "        if pali(prob) and prob > maxpali:\n",
    "            maxpali = prob\n",
    "            \n",
    "print(maxpali)"
   ]
  },
  {
   "cell_type": "markdown",
   "metadata": {},
   "source": [
    "\n",
    "### Challenge 2: Summation of Primes\n",
    "The sum of the primes below 10 is 2 + 3 + 5 + 7 = 17. Find the sum of all the primes below 2,000. Afterward, write a brief explanation walking through your code's logic in markdown."
   ]
  },
  {
   "cell_type": "code",
   "execution_count": 4,
   "metadata": {},
   "outputs": [
    {
     "name": "stdout",
     "output_type": "stream",
     "text": [
      "277050\n"
     ]
    }
   ],
   "source": [
    "num = [] #create the list for prime numbers\n",
    "i = 2\n",
    "for i in range(2,2000): #per defination prime >1\n",
    "    a = 2\n",
    "    for a in range(2,i):\n",
    "        if (i%a==0): #per definiation,prime can only be divided by itself and 1\n",
    "            break  #break the loop if i can be divided by a\n",
    "    else:\n",
    "        num.append(i) #create the list of primes\n",
    "        \n",
    "print(sum(num))"
   ]
  },
  {
   "cell_type": "markdown",
   "metadata": {},
   "source": [
    "### Challenge 3: Multiples of 3 and 5\n",
    "If we list all of the natural numbers below 10 that are multiples of 3 or 5, we get 3, 5, 6, and 9. The sum of these multiples is 23. Find the sum of all the multiples of 3 and 5 below 1,000. Afterward, write a brief explanation walking through your code's logic in markdown."
   ]
  },
  {
   "cell_type": "code",
   "execution_count": 14,
   "metadata": {},
   "outputs": [
    {
     "name": "stdout",
     "output_type": "stream",
     "text": [
      "66335\n"
     ]
    }
   ],
   "source": [
    "num_3 = []\n",
    "i = 3\n",
    "for i in range(0,1000):\n",
    "    a = 3\n",
    "    b = 5\n",
    "    if (i%a) and (i%b)==0 :\n",
    "        num_3.append(i)\n",
    "    \n",
    "print(sum(num_3))\n"
   ]
  },
  {
   "cell_type": "markdown",
   "metadata": {},
   "source": [
    "### Challenge 4: String Compressor\n",
    "Implement a method to perform basic string compression using the counts of repeated characters. (This is called run-length encoding.) For example, the string \"aabcccccaaa\" would become a2b1c5a3. If the “compressed” string would not become smaller than the original string, your method should return the original string. You can assume the string has only uppercase and lowercase letters (a–z). Specify whether your solution is case sensitive or case insensitive and what you would need to change to make it the other. Afterward, write a brief explanation walking through your code's logic in markdown."
   ]
  },
  {
   "cell_type": "code",
   "execution_count": null,
   "metadata": {},
   "outputs": [],
   "source": []
  },
  {
   "cell_type": "code",
   "execution_count": 53,
   "metadata": {},
   "outputs": [],
   "source": [
    "str = \"aaaaakkkkkkennnnekkk\"\n",
    "\n",
    "def encode(input_string):\n",
    "    \n",
    "    count = 1\n",
    "    prev = ''\n",
    "    lst = []\n",
    "    for i in input_string:\n",
    "        if i != prev:\n",
    "            if prev:\n",
    "                entry = (prev,count)\n",
    "                lst.append(entry)\n",
    "            count = 1\n",
    "            prev = i\n",
    "        else:\n",
    "            count += 1\n",
    "            \n",
    "def decode(lst):\n",
    "    q = \"\"\n",
    "    for character, count in lst:\n",
    "        q += character * count\n",
    "    return list(q)\n",
    "\n"
   ]
  },
  {
   "cell_type": "code",
   "execution_count": 54,
   "metadata": {},
   "outputs": [],
   "source": [
    "def encode(input_string):\n",
    "\n",
    "    count = 1\n",
    "    prev = ''\n",
    "    lst = []\n",
    "    for character in input_string:\n",
    "        if character != prev:\n",
    "            if prev:\n",
    "                entry = (prev)\n",
    "                lst.append(entry)\n",
    "                #print lst\n",
    "            count = 1\n",
    "            prev = character\n",
    "        else:\n",
    "            count += 1\n",
    "            entry = (prev,count)\n",
    " \n",
    "def decode(lst):\n",
    "    q = \"\"\n",
    "    for character, count in lst:\n",
    "        q += character * count\n",
    "    return q\n",
    "\n",
    "input_string = 'aaaaakkkkkkennnnekkk'\n",
    "\n",
    "\n"
   ]
  },
  {
   "cell_type": "markdown",
   "metadata": {},
   "source": [
    "### *BONUS* Challenge: FizzBuzz\n",
    "Write a program that prints all of the numbers from 1 to 100. For multiples of 3, instead of the number, print \"Fizz;\" for multiples of 5, print \"Buzz.\" For numbers that are multiples of both 3 and 5, print \"FizzBuzz.\" Afterward, write a brief explanation walking through your code's logic in markdown."
   ]
  },
  {
   "cell_type": "code",
   "execution_count": 85,
   "metadata": {},
   "outputs": [
    {
     "name": "stdout",
     "output_type": "stream",
     "text": [
      "[1, 2, 'Fizz', 4, 5, 'Fizz', 7, 8, 'Fizz', 10, 11, 'Fizz', 13, 14, 'FizzBuzz', 16, 17, 'Fizz', 19, 20, 'Fizz', 22, 23, 'Fizz', 25, 26, 'Fizz', 28, 29, 'FizzBuzz', 31, 32, 'Fizz', 34, 35, 'Fizz', 37, 38, 'Fizz', 40, 41, 'Fizz', 43, 44, 'FizzBuzz', 46, 47, 'Fizz', 49, 50, 'Fizz', 52, 53, 'Fizz', 55, 56, 'Fizz', 58, 59, 'FizzBuzz', 61, 62, 'Fizz', 64, 65, 'Fizz', 67, 68, 'Fizz', 70, 71, 'Fizz', 73, 74, 'FizzBuzz', 76, 77, 'Fizz', 79, 80, 'Fizz', 82, 83, 'Fizz', 85, 86, 'Fizz', 88, 89, 'FizzBuzz', 91, 92, 'Fizz', 94, 95, 'Fizz', 97, 98, 'Fizz', 100]\n"
     ]
    }
   ],
   "source": [
    "num_3 = []\n",
    "i = 3\n",
    "for i in range(1,101):\n",
    "    a = 3\n",
    "    b = 5\n",
    "    if (i%a) ==0 and (i%b) == 0:\n",
    "        i = 'FizzBuzz'\n",
    "        num_3.append(i)\n",
    "    elif (i%a) ==0 and (i%b)!=0:\n",
    "        i = 'Fizz'\n",
    "        num_3.append(i)\n",
    "   \n",
    "    else:\n",
    "        num_3.append(i)\n",
    "    \n",
    "   \n",
    "\n",
    "print(num_3)\n"
   ]
  }
 ],
 "metadata": {
  "anaconda-cloud": {},
  "kernelspec": {
   "display_name": "Python 3",
   "language": "python",
   "name": "python3"
  },
  "language_info": {
   "codemirror_mode": {
    "name": "ipython",
    "version": 3
   },
   "file_extension": ".py",
   "mimetype": "text/x-python",
   "name": "python",
   "nbconvert_exporter": "python",
   "pygments_lexer": "ipython3",
   "version": "3.7.3"
  }
 },
 "nbformat": 4,
 "nbformat_minor": 2
}
